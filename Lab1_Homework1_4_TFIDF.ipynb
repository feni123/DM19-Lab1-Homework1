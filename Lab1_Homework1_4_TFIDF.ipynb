{
 "cells": [
  {
   "cell_type": "code",
   "execution_count": null,
   "metadata": {},
   "outputs": [],
   "source": [
    "# homework 1 task 2\n",
    "# contents of this document\n",
    "# 1. TF-IDF features are generated\n",
    "# two naive bayes classificators are trained (one based on word frequency vectors and one based on TF-IDF features) and compared"
   ]
  },
  {
   "cell_type": "code",
   "execution_count": 1,
   "metadata": {},
   "outputs": [
    {
     "name": "stdout",
     "output_type": "stream",
     "text": [
      "                                            sentence  label provider\n",
      "0                        Good case, Excellent value.      1   amazon\n",
      "1                             Great for the jawbone.      1   amazon\n",
      "2  Tied to charger for conversations lasting more...      0   amazon\n",
      "3                                  The mic is great.      1   amazon\n",
      "4  I have to jiggle the plug to get it to line up...      0   amazon\n",
      "5  If you have several dozen or several hundred c...      0   amazon\n",
      "shape (2745, 3)\n"
     ]
    }
   ],
   "source": [
    "# data import\n",
    "\n",
    "import pandas as pd\n",
    "import os\n",
    "here = os.path.dirname(\"C:/Users/Feli/Documents/NTHU/DataMining/Lab/DMLab1/NewDataset\") if \"__file__\" in locals() else \".\"\n",
    "\n",
    "files = [(\"amazon\", \"C:/Users/Feli/Documents/NTHU/DataMining/Lab/DMLab1/NewDataset/sentiment labelled sentences/amazon_cells_labelled.txt\"),\n",
    "         (\"imdb\", \"C:/Users/Feli/Documents/NTHU/DataMining/Lab/DMLab1/NewDataset/sentiment labelled sentences/imdb_labelled.txt\"),\n",
    "         (\"yelp\", \"C:/Users/Feli/Documents/NTHU/DataMining/Lab/DMLab1/NewDataset/sentiment labelled sentences/yelp_labelled.txt\")]\n",
    "    \n",
    "dfs = []\n",
    "\n",
    "# 3. data transformation: pandas dataframe\n",
    "\n",
    "for provider, name in files:\n",
    "    df = pd.read_csv(name, sep=\"\\t\")\n",
    "    df.columns = [\"sentence\", \"label\"]\n",
    "    df[\"provider\"] = provider\n",
    "    dfs.append(df)\n",
    "\n",
    "data = pd.concat(dfs, axis=0)\n",
    "\n",
    "# visualization of some records in table form\n",
    "print(data.head(6))\n",
    "print(\"shape\", data.shape)"
   ]
  },
  {
   "cell_type": "code",
   "execution_count": 27,
   "metadata": {},
   "outputs": [],
   "source": [
    "# 1. generation of TF-IDF features"
   ]
  },
  {
   "cell_type": "code",
   "execution_count": 2,
   "metadata": {},
   "outputs": [],
   "source": [
    "from sklearn.feature_extraction.text import CountVectorizer\n",
    "from sklearn.feature_extraction.text import TfidfTransformer\n",
    "\n",
    "count_vect = CountVectorizer()\n",
    "\n",
    "# compute the frequency of the words in a sentence of the dataset\n",
    "data_counts = count_vect.fit_transform(data.sentence)"
   ]
  },
  {
   "cell_type": "code",
   "execution_count": 3,
   "metadata": {},
   "outputs": [],
   "source": [
    "# tf-idf scores\n",
    " \n",
    "tfidf_transformer=TfidfTransformer()\n",
    "tfidf_transformer.fit(data_counts)\n",
    " \n",
    "tf_idf_vector=tfidf_transformer.transform(data_counts)\n",
    "feature_names = count_vect.get_feature_names()"
   ]
  },
  {
   "cell_type": "code",
   "execution_count": 6,
   "metadata": {},
   "outputs": [
    {
     "data": {
      "text/html": [
       "<div>\n",
       "<style scoped>\n",
       "    .dataframe tbody tr th:only-of-type {\n",
       "        vertical-align: middle;\n",
       "    }\n",
       "\n",
       "    .dataframe tbody tr th {\n",
       "        vertical-align: top;\n",
       "    }\n",
       "\n",
       "    .dataframe thead th {\n",
       "        text-align: right;\n",
       "    }\n",
       "</style>\n",
       "<table border=\"1\" class=\"dataframe\">\n",
       "  <thead>\n",
       "    <tr style=\"text-align: right;\">\n",
       "      <th></th>\n",
       "      <th>tfidf</th>\n",
       "    </tr>\n",
       "  </thead>\n",
       "  <tbody>\n",
       "    <tr>\n",
       "      <td>value</td>\n",
       "      <td>0.634657</td>\n",
       "    </tr>\n",
       "    <tr>\n",
       "      <td>case</td>\n",
       "      <td>0.511961</td>\n",
       "    </tr>\n",
       "    <tr>\n",
       "      <td>excellent</td>\n",
       "      <td>0.470853</td>\n",
       "    </tr>\n",
       "    <tr>\n",
       "      <td>good</td>\n",
       "      <td>0.336754</td>\n",
       "    </tr>\n",
       "    <tr>\n",
       "      <td>00</td>\n",
       "      <td>0.000000</td>\n",
       "    </tr>\n",
       "    <tr>\n",
       "      <td>...</td>\n",
       "      <td>...</td>\n",
       "    </tr>\n",
       "    <tr>\n",
       "      <td>fell</td>\n",
       "      <td>0.000000</td>\n",
       "    </tr>\n",
       "    <tr>\n",
       "      <td>feisty</td>\n",
       "      <td>0.000000</td>\n",
       "    </tr>\n",
       "    <tr>\n",
       "      <td>feet</td>\n",
       "      <td>0.000000</td>\n",
       "    </tr>\n",
       "    <tr>\n",
       "      <td>feels</td>\n",
       "      <td>0.000000</td>\n",
       "    </tr>\n",
       "    <tr>\n",
       "      <td>zombiez</td>\n",
       "      <td>0.000000</td>\n",
       "    </tr>\n",
       "  </tbody>\n",
       "</table>\n",
       "<p>5151 rows × 1 columns</p>\n",
       "</div>"
      ],
      "text/plain": [
       "              tfidf\n",
       "value      0.634657\n",
       "case       0.511961\n",
       "excellent  0.470853\n",
       "good       0.336754\n",
       "00         0.000000\n",
       "...             ...\n",
       "fell       0.000000\n",
       "feisty     0.000000\n",
       "feet       0.000000\n",
       "feels      0.000000\n",
       "zombiez    0.000000\n",
       "\n",
       "[5151 rows x 1 columns]"
      ]
     },
     "execution_count": 6,
     "metadata": {},
     "output_type": "execute_result"
    }
   ],
   "source": [
    "# print the tfidf values of the first document for visualization reasons\n",
    " \n",
    "first_document_vector=tf_idf_vector[0]\n",
    "\n",
    "# print the scores\n",
    "df_first = pd.DataFrame(first_document_vector.T.todense(), index=feature_names, columns=[\"tfidf\"])\n",
    "\n",
    "# sort descending\n",
    "df_first.sort_values(by=[\"tfidf\"],ascending=False)\n",
    "\n",
    "# some words and their tfidf weights of the first documents can be seen below"
   ]
  },
  {
   "cell_type": "code",
   "execution_count": 14,
   "metadata": {},
   "outputs": [],
   "source": [
    "# 2. naive bayes classificators"
   ]
  },
  {
   "cell_type": "code",
   "execution_count": 17,
   "metadata": {},
   "outputs": [],
   "source": [
    "# important imports for training naive bayes classificators\n",
    "\n",
    "from sklearn.feature_extraction.text import CountVectorizer\n",
    "from sklearn.model_selection import train_test_split\n",
    "from sklearn.naive_bayes import MultinomialNB\n",
    "from sklearn.naive_bayes import GaussianNB\n",
    "from sklearn.metrics import accuracy_score\n",
    "from sklearn.metrics import precision_score\n",
    "from sklearn.metrics import recall_score\n",
    "\n",
    "# initialize classifier\n",
    "mnb = MultinomialNB()\n",
    "gnb = GaussianNB()\n",
    "\n",
    "# according to https://hub.packtpub.com/implementing-3-naive-bayes-classifiers-in-scikit-learn/ \n",
    "# a multinomial naive bayes assumes to have feature vector where each element represents the number of times it appears \n",
    "# this is the case then training the classifier with word frequency features\n",
    "# thus, a multinomial naive bayes is used to train the bayes classifyer based on word frequency vectors\n",
    "# gaussian naive bayes is based on a continuous distribution and it’s suitable for more generic classification tasks\n",
    "# thus, gaussian naive bayes is used to train the bayes classificator based on TF-IDF features"
   ]
  },
  {
   "cell_type": "code",
   "execution_count": 21,
   "metadata": {},
   "outputs": [
    {
     "name": "stdout",
     "output_type": "stream",
     "text": [
      "accuracy:  0.8123620309050773\n",
      "precision:  0.8194130925507901\n",
      "recall:  0.8013245033112583\n"
     ]
    }
   ],
   "source": [
    "# train naive bayes classifier with word frequency features\n",
    "\n",
    "count_vect = CountVectorizer()\n",
    "data_counts = count_vect.fit_transform(data.sentence)\n",
    "\n",
    "label_names_wf = ['positive', 'negative']\n",
    "labels_wf = data['label']\n",
    "feature_names_wf = count_vect.get_feature_names()\n",
    "features_wf = data_counts\n",
    "\n",
    "# split our data randomly in test and training data\n",
    "train, test, train_labels, test_labels = train_test_split(features_wf,\n",
    "                                                          labels_wf,\n",
    "                                                          test_size=0.33,\n",
    "                                                          random_state=42)\n",
    "# train lassifier\n",
    "model_wf = mnb.fit(train.toarray(), train_labels)\n",
    "preds_wf = model_wf.predict(test.toarray())\n",
    "\n",
    "# evaluate classifier\n",
    "\n",
    "# accuracy = (TP+TN)/(TP+FP+TN+FN)\n",
    "print(\"accuracy: \", accuracy_score(test_labels, preds_wf))\n",
    "\n",
    "# precision = TP/(TP + FP)\n",
    "print(\"precision: \", precision_score(test_labels, preds_wf))\n",
    "\n",
    "# recall = TP/(TP+FN)\n",
    "print(\"recall: \", recall_score(test_labels, preds_wf))\n"
   ]
  },
  {
   "cell_type": "code",
   "execution_count": 19,
   "metadata": {},
   "outputs": [
    {
     "name": "stdout",
     "output_type": "stream",
     "text": [
      "accuracy:  0.6589403973509934\n",
      "precision:  0.7033898305084746\n",
      "recall:  0.5496688741721855\n"
     ]
    }
   ],
   "source": [
    "# train naive bayes classifier with TF-IDF features\n",
    "\n",
    "label_names_tf = ['positive', 'negative']\n",
    "labels_tf = data['label']\n",
    "feature_names_tf = feature_names # see[11]\n",
    "features_tf = tf_idf_vector\n",
    "\n",
    "# train and build classifier\n",
    "train, test, train_labels, test_labels = train_test_split(features_tf,\n",
    "                                                          labels_tf,\n",
    "                                                          test_size=0.33,\n",
    "                                                        random_state=42)\n",
    "model_tf = gnb.fit(train.toarray(), train_labels)\n",
    "preds_tf = model_tf.predict(test.toarray())\n",
    "\n",
    "# evaluate classifier\n",
    "\n",
    "# accuracy = (TP+TN)/(TP+FP+TN+FN)\n",
    "print(\"accuracy: \", accuracy_score(test_labels, preds_tf))\n",
    "\n",
    "# precision = TP/(TP + FP)\n",
    "print(\"precision: \", precision_score(test_labels, preds_tf))\n",
    "\n",
    "# recall = TP/(TP+FN)\n",
    "print(\"recall: \", recall_score(test_labels, preds_tf))"
   ]
  },
  {
   "cell_type": "code",
   "execution_count": 104,
   "metadata": {},
   "outputs": [],
   "source": [
    "# as the recall of the second classiefier is much lower than the first one, the number of false negatives is much higher\n",
    "# the precision value of the scoond classifier is about 0.1 lower. Thus, the number of false negatives is higher too\n",
    "# the accuracy is lower, too. This means that the number of false classifications (FP + FN) is higher in the second classifier\n",
    "# the first classifier (bayes classifier trained with the word frequency vector) leads to better results"
   ]
  },
  {
   "cell_type": "code",
   "execution_count": null,
   "metadata": {},
   "outputs": [],
   "source": []
  },
  {
   "cell_type": "code",
   "execution_count": null,
   "metadata": {},
   "outputs": [],
   "source": []
  },
  {
   "cell_type": "code",
   "execution_count": null,
   "metadata": {},
   "outputs": [],
   "source": []
  }
 ],
 "metadata": {
  "kernelspec": {
   "display_name": "Python 3",
   "language": "python",
   "name": "python3"
  },
  "language_info": {
   "codemirror_mode": {
    "name": "ipython",
    "version": 3
   },
   "file_extension": ".py",
   "mimetype": "text/x-python",
   "name": "python",
   "nbconvert_exporter": "python",
   "pygments_lexer": "ipython3",
   "version": "3.7.4"
  }
 },
 "nbformat": 4,
 "nbformat_minor": 2
}
