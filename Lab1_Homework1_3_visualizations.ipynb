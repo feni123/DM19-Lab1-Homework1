{
 "cells": [
  {
   "cell_type": "code",
   "execution_count": 1,
   "metadata": {},
   "outputs": [
    {
     "name": "stdout",
     "output_type": "stream",
     "text": [
      "                                            sentence  label provider\n",
      "0                        Good case, Excellent value.      1   amazon\n",
      "1                             Great for the jawbone.      1   amazon\n",
      "2  Tied to charger for conversations lasting more...      0   amazon\n",
      "3                                  The mic is great.      1   amazon\n",
      "4  I have to jiggle the plug to get it to line up...      0   amazon\n",
      "5  If you have several dozen or several hundred c...      0   amazon\n",
      "shape (2745, 3)\n"
     ]
    }
   ],
   "source": [
    "# Data Import\n",
    "\n",
    "import matplotlib.pyplot as plt\n",
    "import pandas\n",
    "import os\n",
    "here = os.path.dirname(\"C:/Users/Feli/Documents/NTHU/DataMining/Lab/DMLab1/NewDataset\") if \"__file__\" in locals() else \".\"\n",
    "\n",
    "files = [(\"amazon\", \"C:/Users/Feli/Documents/NTHU/DataMining/Lab/DMLab1/NewDataset/sentiment labelled sentences/amazon_cells_labelled.txt\"),\n",
    "         (\"imdb\", \"C:/Users/Feli/Documents/NTHU/DataMining/Lab/DMLab1/NewDataset/sentiment labelled sentences/imdb_labelled.txt\"),\n",
    "         (\"yelp\", \"C:/Users/Feli/Documents/NTHU/DataMining/Lab/DMLab1/NewDataset/sentiment labelled sentences/yelp_labelled.txt\")]\n",
    "    \n",
    "dfs = []\n",
    "\n",
    "# 3. Data Transformation: Pandas Dataframe\n",
    "\n",
    "for provider, name in files:\n",
    "    df = pandas.read_csv(name, sep=\"\\t\")\n",
    "    df.columns = [\"sentence\", \"label\"]\n",
    "    df[\"provider\"] = provider\n",
    "    dfs.append(df)\n",
    "\n",
    "data = pandas.concat(dfs, axis=0)\n",
    "\n",
    "# visualization of some records in table form\n",
    "print(data.head(6))\n",
    "print(\"shape\", data.shape)"
   ]
  },
  {
   "cell_type": "code",
   "execution_count": 2,
   "metadata": {},
   "outputs": [
    {
     "name": "stdout",
     "output_type": "stream",
     "text": [
      "yelp      500\n",
      "amazon    499\n",
      "imdb      361\n",
      "Name: provider, dtype: int64 \n",
      "\n",
      "amazon    500\n",
      "yelp      499\n",
      "imdb      386\n",
      "Name: provider, dtype: int64\n"
     ]
    }
   ],
   "source": [
    "categories = [\"amazon\",\"imdb\", \"yelp\"]\n",
    "\n",
    "#data1 = data.query('(provider==\"amazon\")').label.value_counts()\n",
    "data_0 = data[data.label==0].provider.value_counts()\n",
    "data_1 = data[data.label==1].provider.value_counts()\n",
    "\n",
    "print(data_0,\"\\n\")\n",
    "print(data_1)"
   ]
  },
  {
   "cell_type": "code",
   "execution_count": 3,
   "metadata": {},
   "outputs": [
    {
     "data": {
      "text/plain": [
       "<matplotlib.legend.Legend at 0x50ee450>"
      ]
     },
     "execution_count": 3,
     "metadata": {},
     "output_type": "execute_result"
    },
    {
     "data": {
      "image/png": "[encoded data removed]",
      "text/plain": [
       "<Figure size 504x360 with 1 Axes>"
      ]
     },
     "metadata": {
      "needs_background": "light"
     },
     "output_type": "display_data"
    }
   ],
   "source": [
    "import pandas as pd\n",
    "\n",
    "df1 = pd.DataFrame({'data_0: negative': data_0,'data_1: positive': data_1}, index=categories)\n",
    "ax = df1.plot.bar(rot=0, title = 'Label distributions among suppliers',figsize = (7,5))\n",
    "ax.legend(loc = 'upper right')\n",
    "\n",
    "# the bar below shows that the dataset contains for each supplier approximately the same number of positive and negative\n",
    "# labeled sentences\n",
    "# for amazon and yelp the dataset contains more entries than for imdb"
   ]
  },
  {
   "cell_type": "code",
   "execution_count": 4,
   "metadata": {},
   "outputs": [
    {
     "name": "stdout",
     "output_type": "stream",
     "text": [
      "yelp      500\n",
      "amazon    499\n",
      "imdb      361\n",
      "Name: provider, dtype: int64 \n",
      "\n",
      "amazon    500\n",
      "yelp      499\n",
      "imdb      386\n",
      "Name: provider, dtype: int64\n"
     ]
    }
   ],
   "source": [
    "categories = [\"amazon\",\"imdb\", \"yelp\"]\n",
    "\n",
    "#data1 = data.query('(provider==\"amazon\")').label.value_counts()\n",
    "data_0 = data[data.label==0].provider.value_counts()\n",
    "data_1 = data[data.label==1].provider.value_counts()\n",
    "\n",
    "print(data_0,\"\\n\")\n",
    "print(data_1)"
   ]
  },
  {
   "cell_type": "code",
   "execution_count": null,
   "metadata": {},
   "outputs": [],
   "source": []
  },
  {
   "cell_type": "code",
   "execution_count": 8,
   "metadata": {},
   "outputs": [
    {
     "data": {
      "text/plain": [
       "['00', '10', '100', '11', '12', '13', '15', '15g', '15pm', '17']"
      ]
     },
     "execution_count": 8,
     "metadata": {},
     "output_type": "execute_result"
    }
   ],
   "source": [
    "from sklearn.feature_extraction.text import CountVectorizer\n",
    "\n",
    "count_vect = CountVectorizer()\n",
    "data_counts = count_vect.fit_transform(data.sentence)\n",
    "\n",
    "# We can obtain the feature names of the vectorizer, i.e., the terms\n",
    "# usually on the horizontal axis\n",
    "count_vect.get_feature_names()[0:10]"
   ]
  },
  {
   "cell_type": "code",
   "execution_count": 77,
   "metadata": {},
   "outputs": [
    {
     "data": {
      "image/png": "[encoded data removed]",
      "text/plain": [
       "<Figure size 864x360 with 1 Axes>"
      ]
     },
     "metadata": {
      "needs_background": "light"
     },
     "output_type": "display_data"
    }
   ],
   "source": [
    "import numpy as np\n",
    "\n",
    "count_vect = CountVectorizer()\n",
    "\n",
    "data_counts_amazon = count_vect.fit_transform(data[data.provider==\"amazon\"].sentence)\n",
    "x_amazon = count_vect.get_feature_names()\n",
    "\n",
    "data_counts_imdb = count_vect.fit_transform(data[data.provider==\"imdb\"].sentence)\n",
    "x_imdb = count_vect.get_feature_names()\n",
    "\n",
    "data_counts_yelp = count_vect.fit_transform(data[data.provider==\"yelp\"].sentence)\n",
    "x_yelp = count_vect.get_feature_names()\n",
    "\n",
    "\n",
    "    \n",
    "term_frequencies_amazon = np.asarray(data_counts_amazon.sum(axis=0))[0]\n",
    "term_frequencies_imdb = np.asarray(data_counts_imdb.sum(axis=0))[0]\n",
    "term_frequencies_yelp = np.asarray(data_counts_yelp.sum(axis=0))[0]\n",
    "\n",
    "df_amazon = pd.DataFrame(np.transpose(term_frequencies_amazon), columns = [\"amazon\"], index = x_amazon)\n",
    "df_imdb = pd.DataFrame(np.transpose(term_frequencies_imdb), columns = [\"imdb\"], index = x_imdb)\n",
    "df_yelp = pd.DataFrame(np.transpose(term_frequencies_yelp), columns = [\"yelp\"], index = x_yelp)\n",
    "df_amazon = np.transpose(df_amazon)\n",
    "df_imdb = np.transpose(df_imdb)\n",
    "df_yelp = np.transpose(df_yelp)\n",
    "\n",
    "df_new=pd.concat([df_amazon, df_imdb, df_yelp], sort=False)\n",
    "\n",
    "\n",
    "df_new = df_new.loc[:, df_new.max().sort_values(ascending=False).index]\n",
    "\n",
    "df_new= df_new.iloc[::, 0:15]\n",
    "\n",
    "\n",
    "    \n",
    "df_new=np.transpose(df_new)\n",
    "\n",
    "ax = df_new.plot.bar(rot=0, title = 'Most frequents terms and their distribution among suppliers',figsize = (12,5))\n"
   ]
  }
 ],
 "metadata": {
  "kernelspec": {
   "display_name": "Python 3",
   "language": "python",
   "name": "python3"
  },
  "language_info": {
   "codemirror_mode": {
    "name": "ipython",
    "version": 3
   },
   "file_extension": ".py",
   "mimetype": "text/x-python",
   "name": "python",
   "nbconvert_exporter": "python",
   "pygments_lexer": "ipython3",
   "version": "3.7.4"
  }
 },
 "nbformat": 4,
 "nbformat_minor": 2
}
